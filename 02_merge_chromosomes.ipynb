{
 "cells": [
  {
   "cell_type": "code",
   "execution_count": null,
   "metadata": {},
   "outputs": [],
   "source": [
    "import hail as hl\n",
    "from hail.plot import show\n",
    "from pprint import pprint\n",
    "\n",
    "hl.init(default_reference = \"GRCh38\", min_block_size=128, \n",
    "        spark_conf={'spark.driver.memory': '40g', 'spark.task.maxFailures': '20', 'spark.master': 'local[20,20]'})"
   ]
  },
  {
   "cell_type": "code",
   "execution_count": null,
   "metadata": {},
   "outputs": [],
   "source": [
    "all_datasets = [hl.read_matrix_table(\"~/WGS/BRAVA/checkpoint/chr1.GT_multi.variant.filtered.mt\"),\n",
    "                hl.read_matrix_table(\"~/WGS/BRAVA/checkpoint/chr2.GT_multi.variant.filtered.mt\"),\n",
    "                hl.read_matrix_table(\"~/WGS/BRAVA/checkpoint/chr3.GT_multi.variant.filtered.mt\"),\n",
    "                hl.read_matrix_table(\"~/WGS/BRAVA/checkpoint/chr4.GT_multi.variant.filtered.mt\"),\n",
    "                hl.read_matrix_table(\"~/WGS/BRAVA/checkpoint/chr5.GT_multi.variant.filtered.mt\"),\n",
    "                hl.read_matrix_table(\"~/WGS/BRAVA/checkpoint/chr6.GT_multi.variant.filtered.mt\"),\n",
    "                hl.read_matrix_table(\"~/WGS/BRAVA/checkpoint/chr7.GT_multi.variant.filtered.mt\"),\n",
    "                hl.read_matrix_table(\"~/WGS/BRAVA/checkpoint/chr8.GT_multi.variant.filtered.mt\"),\n",
    "                hl.read_matrix_table(\"~/WGS/BRAVA/checkpoint/chr9.GT_multi.variant.filtered.mt\"),\n",
    "                hl.read_matrix_table(\"~/WGS/BRAVA/checkpoint/chr10.GT_multi.variant.filtered.mt\"),\n",
    "                hl.read_matrix_table(\"~/WGS/BRAVA/checkpoint/chr11.GT_multi.variant.filtered.mt\"),\n",
    "                hl.read_matrix_table(\"~/WGS/BRAVA/checkpoint/chr12.GT_multi.variant.filtered.mt\"),\n",
    "                hl.read_matrix_table(\"~/WGS/BRAVA/checkpoint/chr13.GT_multi.variant.filtered.mt\"),\n",
    "                hl.read_matrix_table(\"~/WGS/BRAVA/checkpoint/chr14.GT_multi.variant.filtered.mt\"),\n",
    "                hl.read_matrix_table(\"~/WGS/BRAVA/checkpoint/chr15.GT_multi.variant.filtered.mt\"),\n",
    "                hl.read_matrix_table(\"~/WGS/BRAVA/checkpoint/chr16.GT_multi.variant.filtered.mt\"),\n",
    "                hl.read_matrix_table(\"~/WGS/BRAVA/checkpoint/chr17.GT_multi.variant.filtered.mt\"),\n",
    "                hl.read_matrix_table(\"~/WGS/BRAVA/checkpoint/chr18.GT_multi.variant.filtered.mt\"),\n",
    "                hl.read_matrix_table(\"~/WGS/BRAVA/checkpoint/chr19.GT_multi.variant.filtered.mt\"),\n",
    "                hl.read_matrix_table(\"~/WGS/BRAVA/checkpoint/chr20.GT_multi.variant.filtered.mt\"),\n",
    "                hl.read_matrix_table(\"~/WGS/BRAVA/checkpoint/chr21.GT_multi.variant.filtered.mt\"),\n",
    "                hl.read_matrix_table(\"~/WGS/BRAVA/checkpoint/chr22.GT_multi.variant.filtered.mt\"),\n",
    "                hl.read_matrix_table(\"~/WGS/BRAVA/checkpoint/chrX.GT_multi.variant.filtered.mt\"),\n",
    "                hl.read_matrix_table(\"~/WGS/BRAVA/checkpoint/chrY.GT_multi.variant.filtered.mt\")]"
   ]
  },
  {
   "cell_type": "code",
   "execution_count": null,
   "metadata": {},
   "outputs": [],
   "source": [
    "merged_filtered_exome = hl.MatrixTable.union_rows(*all_datasets)"
   ]
  },
  {
   "cell_type": "code",
   "execution_count": null,
   "metadata": {},
   "outputs": [],
   "source": [
    "merged_filtered_exome.write(\"~/WGS/BRAVA/merged/CCPM_Exome_Freeze_Three.mt\", overwrite = True)"
   ]
  },
  {
   "cell_type": "code",
   "execution_count": null,
   "metadata": {},
   "outputs": [],
   "source": [
    "merged_filtered_exome.repartition(2048).write(\"~/WGS/BRAVA/merged/CCPM_Exome_Freeze_Three.2048.mt\", overwrite = True)"
   ]
  },
  {
   "cell_type": "code",
   "execution_count": null,
   "metadata": {},
   "outputs": [],
   "source": []
  },
  {
   "cell_type": "code",
   "execution_count": null,
   "metadata": {},
   "outputs": [],
   "source": [
    "# removing column data and generating vcf for annotation\n",
    "\n",
    "FILTERED_MT = \"~/WGS/BRAVA/merged/CCPM_Exome_Freeze_Three.2048.mt\"\n",
    "mt = hl.read_matrix_table(FILTERED_MT)\n",
    "\n",
    "samples_to_keep = {''}\n",
    "set_to_keep = hl.literal(samples_to_keep)\n",
    "mt_annotation = mt.filter_cols(set_to_keep.contains(mt['s']))\n",
    "\n",
    "hl.export_vcf(mt_annotation, '~/WGS/BRAVA/variants_for_annotation/CCPM_Exome_Freeze_Three.annotation.vcf.bgz')"
   ]
  },
  {
   "cell_type": "code",
   "execution_count": null,
   "metadata": {},
   "outputs": [],
   "source": [
    "mt_annotation.count()"
   ]
  },
  {
   "cell_type": "code",
   "execution_count": null,
   "metadata": {},
   "outputs": [],
   "source": [
    "# exporting filtered genetic data to plink for PCA and major continental ancestry estimates\n",
    "FILTERED_MT = \"~/WGS/BRAVA/merged/CCPM_Exome_Freeze_Three.2048.mt\"\n",
    "mt = hl.read_matrix_table(FILTERED_MT)\n",
    "hl.export_plink(mt, '~/WGS/BRAVA/bed/CCPM_Exome_Freeze_Three')\n"
   ]
  },
  {
   "cell_type": "code",
   "execution_count": null,
   "metadata": {},
   "outputs": [],
   "source": [
    "# exporting by chromosome as \n",
    "for chr in [\"21\", \"11\", \"12\", \"13\", \"14\", \"15\", \"16\", \"17\", \"18\", \"19\", \"20\", \"10\", \"22\", \"1\", \"2\",\n",
    "           \"3\", \"4\", \"5\", \"6\", \"7\", \"8\", \"9\", \"X\"]:\n",
    "    FILTERED_MT = 'gs://hail-brava/GT_and_variant_filtered/COLORADO_Freeze_Two.chr' + chr + '_PAIR_ids_GT_and_variant_filtered.mt'\n",
    "    FILTERED_VCF = 'gs://hail-brava/filtered_exome_for_annotation/COLORADO_Freeze_Two.chr' + chr + '.BRaVa.annotation.vcf.bgz'\n",
    "    \n",
    "    mt = hl.read_matrix_table(FILTERED_MT)\n",
    "    \n",
    "    # removing column data to generate vcf for annotation\n",
    "    samples_to_keep = {''}\n",
    "    set_to_keep = hl.literal(samples_to_keep)\n",
    "    mt_annotation = mt.filter_cols(set_to_keep.contains(mt['s']))\n",
    "\n",
    "    hl.export_vcf(mt_annotation, FILTERED_VCF)\n",
    "    "
   ]
  },
  {
   "cell_type": "code",
   "execution_count": null,
   "metadata": {},
   "outputs": [],
   "source": []
  },
  {
   "cell_type": "code",
   "execution_count": null,
   "metadata": {},
   "outputs": [],
   "source": []
  }
 ],
 "metadata": {
  "kernelspec": {
   "display_name": "Python 3",
   "language": "python",
   "name": "python3"
  },
  "language_info": {
   "codemirror_mode": {
    "name": "ipython",
    "version": 3
   },
   "file_extension": ".py",
   "mimetype": "text/x-python",
   "name": "python",
   "nbconvert_exporter": "python",
   "pygments_lexer": "ipython3",
   "version": "3.7.1"
  }
 },
 "nbformat": 4,
 "nbformat_minor": 5
}
